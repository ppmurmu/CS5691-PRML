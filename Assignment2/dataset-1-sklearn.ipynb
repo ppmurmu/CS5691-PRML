{
 "cells": [
  {
   "cell_type": "code",
   "execution_count": 4,
   "id": "9bcc17de-ef5f-4338-85cd-7d93372fd034",
   "metadata": {},
   "outputs": [
    {
     "name": "stdout",
     "output_type": "stream",
     "text": [
      "Gaussian Bayes Classifier with Shared Covariance (LDA):\n",
      "Accuracy: 0.9666666666666667\n",
      "Classification Report:\n",
      "              precision    recall  f1-score   support\n",
      "\n",
      "         0.0       0.95      0.97      0.96        38\n",
      "         1.0       1.00      0.98      0.99        43\n",
      "         2.0       0.95      0.95      0.95        39\n",
      "\n",
      "    accuracy                           0.97       120\n",
      "   macro avg       0.97      0.97      0.97       120\n",
      "weighted avg       0.97      0.97      0.97       120\n",
      "\n",
      "\n",
      "Gaussian Bayes Classifier with Different Covariance (QDA):\n",
      "Accuracy: 0.975\n",
      "Classification Report:\n",
      "              precision    recall  f1-score   support\n",
      "\n",
      "         0.0       0.97      0.97      0.97        38\n",
      "         1.0       1.00      0.98      0.99        43\n",
      "         2.0       0.95      0.97      0.96        39\n",
      "\n",
      "    accuracy                           0.97       120\n",
      "   macro avg       0.97      0.97      0.97       120\n",
      "weighted avg       0.98      0.97      0.98       120\n",
      "\n"
     ]
    }
   ],
   "source": [
    "import numpy as np\n",
    "from sklearn.discriminant_analysis import QuadraticDiscriminantAnalysis\n",
    "from sklearn.metrics import accuracy_score, classification_report\n",
    "from sklearn.discriminant_analysis import LinearDiscriminantAnalysis\n",
    "\n",
    "# Assuming load_data is a function you've defined elsewhere\n",
    "# If not, you'll need to implement this function to read your CSV files\n",
    "\n",
    "def load_data(filename):\n",
    "    data = np.genfromtxt(filename, delimiter=',', skip_header=1)\n",
    "    X = data[:, :2]\n",
    "    y = data[:, 2]\n",
    "    return X, y\n",
    "\n",
    "# Load the data\n",
    "X_train, y_train = load_data('./team20/Dataset-1/train.csv')\n",
    "X_test, y_test = load_data('./team20/Dataset-1/test.csv')  # Changed to test.csv for test data\n",
    "\n",
    "# Gaussian Bayes Classifier with Shared Covariance (Linear Discriminant Analysis)\n",
    "from sklearn.discriminant_analysis import LinearDiscriminantAnalysis\n",
    "\n",
    "lda = LinearDiscriminantAnalysis()\n",
    "lda.fit(X_train, y_train)\n",
    "y_pred_shared = lda.predict(X_test)\n",
    "\n",
    "print(\"Gaussian Bayes Classifier with Shared Covariance (LDA):\")\n",
    "print(\"Accuracy:\", accuracy_score(y_test, y_pred_shared))\n",
    "print(\"Classification Report:\")\n",
    "print(classification_report(y_test, y_pred_shared))\n",
    "\n",
    "# Gaussian Bayes Classifier with Different Covariance (Quadratic Discriminant Analysis)\n",
    "qda = QuadraticDiscriminantAnalysis()\n",
    "qda.fit(X_train, y_train)\n",
    "y_pred_diff = qda.predict(X_test)\n",
    "\n",
    "print(\"\\nGaussian Bayes Classifier with Different Covariance (QDA):\")\n",
    "print(\"Accuracy:\", accuracy_score(y_test, y_pred_diff))\n",
    "print(\"Classification Report:\")\n",
    "print(classification_report(y_test, y_pred_diff))"
   ]
  },
  {
   "cell_type": "code",
   "execution_count": null,
   "id": "34795aca-eb57-4389-82ec-c744cf07146b",
   "metadata": {},
   "outputs": [],
   "source": []
  }
 ],
 "metadata": {
  "kernelspec": {
   "display_name": "Python 3 (ipykernel)",
   "language": "python",
   "name": "python3"
  },
  "language_info": {
   "codemirror_mode": {
    "name": "ipython",
    "version": 3
   },
   "file_extension": ".py",
   "mimetype": "text/x-python",
   "name": "python",
   "nbconvert_exporter": "python",
   "pygments_lexer": "ipython3",
   "version": "3.12.3"
  }
 },
 "nbformat": 4,
 "nbformat_minor": 5
}
